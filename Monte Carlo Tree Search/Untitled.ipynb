{
 "cells": [
  {
   "cell_type": "code",
   "execution_count": 164,
   "metadata": {},
   "outputs": [],
   "source": [
    "import numpy as np"
   ]
  },
  {
   "cell_type": "code",
   "execution_count": 3,
   "metadata": {},
   "outputs": [],
   "source": [
    "e2 = np.matrix(np.arange(12).reshape((12,1)))"
   ]
  },
  {
   "cell_type": "code",
   "execution_count": 19,
   "metadata": {},
   "outputs": [],
   "source": [
    "e1 = np.matrix([[1],[2],[3],[-1]])"
   ]
  },
  {
   "cell_type": "code",
   "execution_count": 26,
   "metadata": {},
   "outputs": [
    {
     "name": "stdout",
     "output_type": "stream",
     "text": [
      "[[1]]\n",
      "[[2]]\n",
      "[[3]]\n",
      "[[-1]]\n"
     ]
    }
   ],
   "source": [
    "for i in e1[:,0]:\n",
    "    print(i)"
   ]
  },
  {
   "cell_type": "code",
   "execution_count": 25,
   "metadata": {},
   "outputs": [
    {
     "name": "stdout",
     "output_type": "stream",
     "text": [
      "1\n",
      "2\n",
      "3\n",
      "-1\n"
     ]
    }
   ],
   "source": [
    "for i in range(e1.shape[0]):\n",
    "    print(e1[i,0])"
   ]
  },
  {
   "cell_type": "code",
   "execution_count": 46,
   "metadata": {},
   "outputs": [],
   "source": [
    "s = np.array([[-1,1,1],[1,-1,-1],[-1,1,-1]])"
   ]
  },
  {
   "cell_type": "code",
   "execution_count": 47,
   "metadata": {},
   "outputs": [
    {
     "name": "stdout",
     "output_type": "stream",
     "text": [
      "True\n"
     ]
    }
   ],
   "source": [
    "print(np.allclose(s.diagonal(),[-1,-1,-1]))"
   ]
  },
  {
   "cell_type": "code",
   "execution_count": 54,
   "metadata": {},
   "outputs": [
    {
     "name": "stdout",
     "output_type": "stream",
     "text": [
      "True\n"
     ]
    }
   ],
   "source": [
    "e = -1\n",
    "if e == 1 or -1:\n",
    "    print(True)"
   ]
  },
  {
   "cell_type": "code",
   "execution_count": 62,
   "metadata": {},
   "outputs": [
    {
     "name": "stdout",
     "output_type": "stream",
     "text": [
      "0\n"
     ]
    }
   ],
   "source": [
    "import random\n",
    "r = random.randint(0,2)\n",
    "print(r)"
   ]
  },
  {
   "cell_type": "code",
   "execution_count": 69,
   "metadata": {},
   "outputs": [
    {
     "name": "stdout",
     "output_type": "stream",
     "text": [
      "True\n"
     ]
    }
   ],
   "source": [
    "test = np.zeros((3,3))\n",
    "s = np.array([[-1,1,1],[1,-1,-1],[-1,1,0]])\n",
    "if (s == test).any():\n",
    "    print(True)"
   ]
  },
  {
   "cell_type": "code",
   "execution_count": 211,
   "metadata": {},
   "outputs": [
    {
     "name": "stdout",
     "output_type": "stream",
     "text": [
      "[1. 1. 1. 1. 1. 1. 1. 1. 1. 1. 1. 1. 1. 1. 1. 1. 2. 1. 1. 1.]\n"
     ]
    }
   ],
   "source": [
    "p = 0.95\n",
    "r = np.random.choice([2.,1.], 20, p=[1.-p,p])\n",
    "print(r)"
   ]
  },
  {
   "cell_type": "code",
   "execution_count": 223,
   "metadata": {},
   "outputs": [
    {
     "data": {
      "text/plain": [
       "2.0"
      ]
     },
     "execution_count": 223,
     "metadata": {},
     "output_type": "execute_result"
    }
   ],
   "source": [
    "import math\n",
    "math.sqrt(4)"
   ]
  },
  {
   "cell_type": "code",
   "execution_count": 220,
   "metadata": {},
   "outputs": [
    {
     "data": {
      "text/plain": [
       "1.0"
      ]
     },
     "execution_count": 220,
     "metadata": {},
     "output_type": "execute_result"
    }
   ],
   "source": [
    "np.log(math.e)"
   ]
  },
  {
   "cell_type": "code",
   "execution_count": 229,
   "metadata": {},
   "outputs": [
    {
     "name": "stdout",
     "output_type": "stream",
     "text": [
      "2 0\n"
     ]
    }
   ],
   "source": [
    "a1=np.array([[ 0, 1, 1],\n",
    "             [-1,-1,-1],\n",
    "             [ 1,-1, 1]])\n",
    "a2=s=np.array([[ 0,1,1],\n",
    "               [ -1, -1, -1],\n",
    "               [-1, -1,1]])\n",
    "r,c = np.where(a1 != a2)\n",
    "print(r[0],c[0])"
   ]
  },
  {
   "cell_type": "code",
   "execution_count": 232,
   "metadata": {},
   "outputs": [
    {
     "name": "stdout",
     "output_type": "stream",
     "text": [
      "4\n"
     ]
    }
   ],
   "source": [
    "nums = [4,1,2,1,2]\n",
    "dic = {}\n",
    "for item in nums:\n",
    "    if item in dic.keys():\n",
    "        dic[item] += 1\n",
    "    else:\n",
    "        dic[item] = 1\n",
    "print(sorted(dic.items(), key = lambda x:x[1], reverse = False)[0][0])"
   ]
  },
  {
   "cell_type": "code",
   "execution_count": 237,
   "metadata": {},
   "outputs": [
    {
     "name": "stdout",
     "output_type": "stream",
     "text": [
      "4\n",
      "5\n",
      "7\n",
      "6\n",
      "4\n",
      "4\n"
     ]
    }
   ],
   "source": [
    "a = 0\n",
    "for i in [4,1,2,1,2]:\n",
    "    a ^= i\n",
    "    print(a)\n",
    "print(a)"
   ]
  },
  {
   "cell_type": "code",
   "execution_count": 249,
   "metadata": {},
   "outputs": [
    {
     "data": {
      "text/plain": [
       "0"
      ]
     },
     "execution_count": 249,
     "metadata": {},
     "output_type": "execute_result"
    }
   ],
   "source": [
    "4 ^ 4 ^ 3 ^ 0 ^ 3"
   ]
  },
  {
   "cell_type": "code",
   "execution_count": 279,
   "metadata": {},
   "outputs": [],
   "source": [
    "dicc = {}\n",
    "dicc[1] = 0\n",
    "dicc[2] = 0"
   ]
  },
  {
   "cell_type": "code",
   "execution_count": 286,
   "metadata": {},
   "outputs": [
    {
     "name": "stdout",
     "output_type": "stream",
     "text": [
      "2\n"
     ]
    }
   ],
   "source": [
    "s = 0\n",
    "for _,v in dicc.items():\n",
    "    if v == 0:\n",
    "        s += 1\n",
    "print(s)"
   ]
  },
  {
   "cell_type": "code",
   "execution_count": 294,
   "metadata": {},
   "outputs": [
    {
     "name": "stdout",
     "output_type": "stream",
     "text": [
      "8\n"
     ]
    }
   ],
   "source": [
    "from collections import Counter\n",
    "a = [10, 8, 6, 7, 2, 8, 4, 10, 3, 7, 8, 4, 5, 7, 2, 2, 3, 8, 8, 9, 6, 2, 2, 7, 8, 7, 4, 8, 5, 2]\n",
    "b = Counter(a).most_common(3)\n",
    "print(b[0][0])"
   ]
  },
  {
   "cell_type": "code",
   "execution_count": 299,
   "metadata": {},
   "outputs": [
    {
     "name": "stdout",
     "output_type": "stream",
     "text": [
      "{'a': 147, 'b': 143066, 'c': 116947, 'd': 197953, 'e': 181856, 'f': 139104, 'g': 109041, 'h': 163494, 'i': 37052, 'j': 114849, 'k': 52289, 'l': 173976, 'm': 116035, 'n': 83941, 'o': 72866, 'p': 48209, 'q': 21570, 'r': 151741, 's': 100749, 't': 4669, 'u': 12511, 'v': 14429, 'w': 85671, 'x': 44068, 'y': 84861, 'z': 104185}\n",
      "[116947, 143066, 147, 181856, 143066, 147, 143066, 147, 116947, 197953]\n",
      "260160\n"
     ]
    }
   ],
   "source": [
    "s = 'cbaebabacd'\n",
    "p = 'abc'\n",
    "alphabet = 'abcdefghijklmnopqrstuvwxyz'\n",
    "mappings1 = {letter : random.randint(1,213000) for letter in alphabet}\n",
    "print(mappings1)\n",
    "pre_hashed1 = [mappings1[letter] for letter in s]\n",
    "print(pre_hashed1)\n",
    "p_sum1 = sum([mappings1[letter] for letter in p])\n",
    "print(p_sum1)"
   ]
  },
  {
   "cell_type": "code",
   "execution_count": 304,
   "metadata": {},
   "outputs": [
    {
     "name": "stdout",
     "output_type": "stream",
     "text": [
      "10\n"
     ]
    }
   ],
   "source": [
    "q = 19\n",
    "q = str(q)\n",
    "sum = int(q[0])**2 + int(q[1])\n",
    "print(sum)"
   ]
  },
  {
   "cell_type": "code",
   "execution_count": 306,
   "metadata": {},
   "outputs": [
    {
     "name": "stdout",
     "output_type": "stream",
     "text": [
      "{2, 3, 4, 5, 6, 7, 8, 9}\n"
     ]
    }
   ],
   "source": [
    "notvisited = set(range(2,10))\n",
    "print(notvisited)"
   ]
  },
  {
   "cell_type": "code",
   "execution_count": 313,
   "metadata": {},
   "outputs": [],
   "source": [
    "primes = [1] * 5\n",
    "sum()"
   ]
  },
  {
   "cell_type": "code",
   "execution_count": null,
   "metadata": {},
   "outputs": [],
   "source": []
  }
 ],
 "metadata": {
  "kernelspec": {
   "display_name": "Python 3",
   "language": "python",
   "name": "python3"
  },
  "language_info": {
   "codemirror_mode": {
    "name": "ipython",
    "version": 3
   },
   "file_extension": ".py",
   "mimetype": "text/x-python",
   "name": "python",
   "nbconvert_exporter": "python",
   "pygments_lexer": "ipython3",
   "version": "3.6.4"
  }
 },
 "nbformat": 4,
 "nbformat_minor": 2
}
